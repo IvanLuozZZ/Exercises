{
  "nbformat": 4,
  "nbformat_minor": 0,
  "metadata": {
    "colab": {
      "name": "tensor and numpy.ipynb",
      "provenance": [],
      "collapsed_sections": [],
      "authorship_tag": "ABX9TyN2jBt7tQ87A1HMZMtW/QXo",
      "include_colab_link": true
    },
    "kernelspec": {
      "name": "python3",
      "display_name": "Python 3"
    },
    "accelerator": "GPU"
  },
  "cells": [
    {
      "cell_type": "markdown",
      "metadata": {
        "id": "view-in-github",
        "colab_type": "text"
      },
      "source": [
        "<a href=\"https://colab.research.google.com/github/IvanLuozZZ/Exercises/blob/master/pytorch%2060min/tensor_and_numpy.ipynb\" target=\"_parent\"><img src=\"https://colab.research.google.com/assets/colab-badge.svg\" alt=\"Open In Colab\"/></a>"
      ]
    },
    {
      "cell_type": "code",
      "metadata": {
        "id": "xgyc_aGTon8k",
        "colab_type": "code",
        "colab": {}
      },
      "source": [
        "from __future__ import print_function\n",
        "import torch"
      ],
      "execution_count": 0,
      "outputs": []
    },
    {
      "cell_type": "code",
      "metadata": {
        "id": "KgHmCX7VpNSt",
        "colab_type": "code",
        "outputId": "df8043d4-ef1d-4b37-d783-160c7b77fc58",
        "colab": {
          "base_uri": "https://localhost:8080/",
          "height": 102
        }
      },
      "source": [
        "x = torch.empty(5, 3)\n",
        "print(x)"
      ],
      "execution_count": 0,
      "outputs": [
        {
          "output_type": "stream",
          "text": [
            "tensor([[2.9220e-35, 0.0000e+00, 0.0000e+00],\n",
            "        [0.0000e+00, 0.0000e+00, 0.0000e+00],\n",
            "        [0.0000e+00, 0.0000e+00, 2.8026e-45],\n",
            "        [0.0000e+00, 1.1210e-44, 0.0000e+00],\n",
            "        [1.4013e-45, 0.0000e+00, 0.0000e+00]])\n"
          ],
          "name": "stdout"
        }
      ]
    },
    {
      "cell_type": "code",
      "metadata": {
        "id": "YeJeNTZEpiz3",
        "colab_type": "code",
        "outputId": "92cd5ce1-e798-4219-df6d-6fc335354007",
        "colab": {
          "base_uri": "https://localhost:8080/",
          "height": 102
        }
      },
      "source": [
        "x = torch.rand(5, 3)\n",
        "print(x)"
      ],
      "execution_count": 0,
      "outputs": [
        {
          "output_type": "stream",
          "text": [
            "tensor([[0.9985, 0.8606, 0.7369],\n",
            "        [0.7364, 0.3102, 0.7286],\n",
            "        [0.3030, 0.5638, 0.8658],\n",
            "        [0.2022, 0.1975, 0.4250],\n",
            "        [0.4859, 0.8426, 0.5150]])\n"
          ],
          "name": "stdout"
        }
      ]
    },
    {
      "cell_type": "code",
      "metadata": {
        "id": "cnW1XN8pqqJS",
        "colab_type": "code",
        "outputId": "f276f1d5-62b6-4801-e871-097710b86a30",
        "colab": {
          "base_uri": "https://localhost:8080/",
          "height": 102
        }
      },
      "source": [
        "x = torch.zeros(5, 3, dtype=torch.long)\n",
        "print(x)"
      ],
      "execution_count": 0,
      "outputs": [
        {
          "output_type": "stream",
          "text": [
            "tensor([[0, 0, 0],\n",
            "        [0, 0, 0],\n",
            "        [0, 0, 0],\n",
            "        [0, 0, 0],\n",
            "        [0, 0, 0]])\n"
          ],
          "name": "stdout"
        }
      ]
    },
    {
      "cell_type": "code",
      "metadata": {
        "id": "0rM9tZYOric0",
        "colab_type": "code",
        "outputId": "39f73d24-79b7-463a-f34c-03d1745ca37c",
        "colab": {
          "base_uri": "https://localhost:8080/",
          "height": 51
        }
      },
      "source": [
        "x = torch.tensor([5.5, 3])\n",
        "print(x)\n",
        "print(x.dtype)"
      ],
      "execution_count": 0,
      "outputs": [
        {
          "output_type": "stream",
          "text": [
            "tensor([5.5000, 3.0000])\n",
            "torch.float32\n"
          ],
          "name": "stdout"
        }
      ]
    },
    {
      "cell_type": "code",
      "metadata": {
        "id": "dcdAMLH9sIQU",
        "colab_type": "code",
        "outputId": "baea44d6-be09-4302-f6fd-5e96641fae5f",
        "colab": {
          "base_uri": "https://localhost:8080/",
          "height": 186
        }
      },
      "source": [
        "x = x.new_ones(5, 3, dtype=torch.double)\n",
        "print(x)\n",
        "x = torch.randn_like(x, dtype=torch.float)\n",
        "print(x)"
      ],
      "execution_count": 0,
      "outputs": [
        {
          "output_type": "stream",
          "text": [
            "tensor([[1., 1., 1.],\n",
            "        [1., 1., 1.],\n",
            "        [1., 1., 1.],\n",
            "        [1., 1., 1.],\n",
            "        [1., 1., 1.]], dtype=torch.float64)\n",
            "tensor([[-0.7463, -0.0276,  0.7660],\n",
            "        [ 0.7256, -0.9253, -0.2974],\n",
            "        [ 0.8405,  0.4389,  0.1309],\n",
            "        [ 0.6047, -0.1183,  0.2859],\n",
            "        [ 0.0490,  1.1665,  0.2054]])\n"
          ],
          "name": "stdout"
        }
      ]
    },
    {
      "cell_type": "code",
      "metadata": {
        "id": "Ge7NW7JKtkN7",
        "colab_type": "code",
        "outputId": "b889f073-59b2-4e3d-85f5-059b79cc5893",
        "colab": {
          "base_uri": "https://localhost:8080/",
          "height": 34
        }
      },
      "source": [
        "print(x.size())"
      ],
      "execution_count": 0,
      "outputs": [
        {
          "output_type": "stream",
          "text": [
            "torch.Size([5, 3])\n"
          ],
          "name": "stdout"
        }
      ]
    },
    {
      "cell_type": "code",
      "metadata": {
        "id": "OM1EnUDqtqhn",
        "colab_type": "code",
        "outputId": "d214bd77-122b-4d05-db1b-0e5dd4eb47bc",
        "colab": {
          "base_uri": "https://localhost:8080/",
          "height": 102
        }
      },
      "source": [
        "y = torch.rand(5, 3)\n",
        "print(x + y)"
      ],
      "execution_count": 0,
      "outputs": [
        {
          "output_type": "stream",
          "text": [
            "tensor([[-0.1899,  0.6520,  1.5298],\n",
            "        [ 1.5472, -0.1683,  0.2503],\n",
            "        [ 1.0169,  1.3854,  0.5301],\n",
            "        [ 1.2417,  0.4163,  0.9290],\n",
            "        [ 0.9746,  1.6734,  0.6037]])\n"
          ],
          "name": "stdout"
        }
      ]
    },
    {
      "cell_type": "code",
      "metadata": {
        "id": "GuKiM-Tet87P",
        "colab_type": "code",
        "outputId": "d23d499c-37d8-46cd-d7c7-b539571b2bd4",
        "colab": {
          "base_uri": "https://localhost:8080/",
          "height": 102
        }
      },
      "source": [
        "print(torch.add(x, y))"
      ],
      "execution_count": 0,
      "outputs": [
        {
          "output_type": "stream",
          "text": [
            "tensor([[-0.1899,  0.6520,  1.5298],\n",
            "        [ 1.5472, -0.1683,  0.2503],\n",
            "        [ 1.0169,  1.3854,  0.5301],\n",
            "        [ 1.2417,  0.4163,  0.9290],\n",
            "        [ 0.9746,  1.6734,  0.6037]])\n"
          ],
          "name": "stdout"
        }
      ]
    },
    {
      "cell_type": "code",
      "metadata": {
        "id": "TQjgPM18uMt_",
        "colab_type": "code",
        "outputId": "3423aa9a-ee93-4997-b122-37bf9dad5af5",
        "colab": {
          "base_uri": "https://localhost:8080/",
          "height": 102
        }
      },
      "source": [
        "result = torch.empty(5, 3)\n",
        "torch.add(x, y, out=result)\n",
        "print(result)"
      ],
      "execution_count": 0,
      "outputs": [
        {
          "output_type": "stream",
          "text": [
            "tensor([[-0.1899,  0.6520,  1.5298],\n",
            "        [ 1.5472, -0.1683,  0.2503],\n",
            "        [ 1.0169,  1.3854,  0.5301],\n",
            "        [ 1.2417,  0.4163,  0.9290],\n",
            "        [ 0.9746,  1.6734,  0.6037]])\n"
          ],
          "name": "stdout"
        }
      ]
    },
    {
      "cell_type": "code",
      "metadata": {
        "id": "sg6XNLlbuTY2",
        "colab_type": "code",
        "outputId": "812f2342-7ccb-4e06-9366-1bf371a5991d",
        "colab": {
          "base_uri": "https://localhost:8080/",
          "height": 102
        }
      },
      "source": [
        "# adds x to y\n",
        "y.add_(x)\n",
        "print(y)"
      ],
      "execution_count": 0,
      "outputs": [
        {
          "output_type": "stream",
          "text": [
            "tensor([[-0.1899,  0.6520,  1.5298],\n",
            "        [ 1.5472, -0.1683,  0.2503],\n",
            "        [ 1.0169,  1.3854,  0.5301],\n",
            "        [ 1.2417,  0.4163,  0.9290],\n",
            "        [ 0.9746,  1.6734,  0.6037]])\n"
          ],
          "name": "stdout"
        }
      ]
    },
    {
      "cell_type": "code",
      "metadata": {
        "id": "2oFgSdeLuVYo",
        "colab_type": "code",
        "outputId": "adf3ac17-be0a-4732-bedd-7ba9f733d6db",
        "colab": {
          "base_uri": "https://localhost:8080/",
          "height": 152
        }
      },
      "source": [
        "print(x)\n",
        "print(x[:, 1])\n",
        "print(x[:, 0])\n",
        "print(x[1, 1])"
      ],
      "execution_count": 0,
      "outputs": [
        {
          "output_type": "stream",
          "text": [
            "tensor([[-0.7463, -0.0276,  0.7660],\n",
            "        [ 0.7256, -0.9253, -0.2974],\n",
            "        [ 0.8405,  0.4389,  0.1309],\n",
            "        [ 0.6047, -0.1183,  0.2859],\n",
            "        [ 0.0490,  1.1665,  0.2054]])\n",
            "tensor([-0.0276, -0.9253,  0.4389, -0.1183,  1.1665])\n",
            "tensor([-0.7463,  0.7256,  0.8405,  0.6047,  0.0490])\n",
            "tensor(-0.9253)\n"
          ],
          "name": "stdout"
        }
      ]
    },
    {
      "cell_type": "code",
      "metadata": {
        "id": "QIJOkZpVvuTn",
        "colab_type": "code",
        "outputId": "2eb094eb-9361-4279-ba3c-71f29b47ca15",
        "colab": {
          "base_uri": "https://localhost:8080/",
          "height": 169
        }
      },
      "source": [
        "x = torch.randn(4, 4)\n",
        "y = x.view(16)\n",
        "z = x.view(-1, 8)  # the size -1 is inferred from other dimensions\n",
        "print(x)\n",
        "print(y)\n",
        "print(z)\n",
        "print(x.size(), y.size(), z.size())"
      ],
      "execution_count": 0,
      "outputs": [
        {
          "output_type": "stream",
          "text": [
            "tensor([[ 0.4298, -0.8082, -1.0828, -0.4799],\n",
            "        [ 0.5651,  0.5637,  0.2782,  0.7420],\n",
            "        [ 1.1027,  0.8154,  0.5115, -1.0108],\n",
            "        [ 0.3033,  0.2517,  0.2312,  0.3712]])\n",
            "tensor([ 0.4298, -0.8082, -1.0828, -0.4799,  0.5651,  0.5637,  0.2782,  0.7420,\n",
            "         1.1027,  0.8154,  0.5115, -1.0108,  0.3033,  0.2517,  0.2312,  0.3712])\n",
            "tensor([[ 0.4298, -0.8082, -1.0828, -0.4799,  0.5651,  0.5637,  0.2782,  0.7420],\n",
            "        [ 1.1027,  0.8154,  0.5115, -1.0108,  0.3033,  0.2517,  0.2312,  0.3712]])\n",
            "torch.Size([4, 4]) torch.Size([16]) torch.Size([2, 8])\n"
          ],
          "name": "stdout"
        }
      ]
    },
    {
      "cell_type": "code",
      "metadata": {
        "id": "9OeRm8DEwKSz",
        "colab_type": "code",
        "outputId": "65a9f047-dae3-48ed-c3fc-0ad094f7e03f",
        "colab": {
          "base_uri": "https://localhost:8080/",
          "height": 51
        }
      },
      "source": [
        "x = torch.randn(1)\n",
        "print(x)\n",
        "print(x.item())"
      ],
      "execution_count": 0,
      "outputs": [
        {
          "output_type": "stream",
          "text": [
            "tensor([-0.4757])\n",
            "-0.4756980538368225\n"
          ],
          "name": "stdout"
        }
      ]
    },
    {
      "cell_type": "code",
      "metadata": {
        "id": "JGsB0pilwvha",
        "colab_type": "code",
        "outputId": "3d3608dd-7b30-40cb-df8c-d65472b5cacf",
        "colab": {
          "base_uri": "https://localhost:8080/",
          "height": 34
        }
      },
      "source": [
        "a = torch.ones(5)\n",
        "print(a)"
      ],
      "execution_count": 0,
      "outputs": [
        {
          "output_type": "stream",
          "text": [
            "tensor([1., 1., 1., 1., 1.])\n"
          ],
          "name": "stdout"
        }
      ]
    },
    {
      "cell_type": "code",
      "metadata": {
        "id": "YNDcZ7z-wxia",
        "colab_type": "code",
        "outputId": "8cec47ea-15f1-4cd0-aab7-c1523c9346bc",
        "colab": {
          "base_uri": "https://localhost:8080/",
          "height": 34
        }
      },
      "source": [
        "b = a.numpy()\n",
        "print(b)"
      ],
      "execution_count": 0,
      "outputs": [
        {
          "output_type": "stream",
          "text": [
            "[1. 1. 1. 1. 1.]\n"
          ],
          "name": "stdout"
        }
      ]
    },
    {
      "cell_type": "code",
      "metadata": {
        "id": "1BtO_5Pkw2is",
        "colab_type": "code",
        "outputId": "ca96e835-cda2-4c30-9e02-f7aaf28710bf",
        "colab": {
          "base_uri": "https://localhost:8080/",
          "height": 51
        }
      },
      "source": [
        "a.add_(1)\n",
        "print(a)\n",
        "print(b)"
      ],
      "execution_count": 0,
      "outputs": [
        {
          "output_type": "stream",
          "text": [
            "tensor([2., 2., 2., 2., 2.])\n",
            "[2. 2. 2. 2. 2.]\n"
          ],
          "name": "stdout"
        }
      ]
    },
    {
      "cell_type": "code",
      "metadata": {
        "id": "FaLcSUmfxAHP",
        "colab_type": "code",
        "outputId": "cc8889d7-b3d6-40c7-b824-23c08276f4fb",
        "colab": {
          "base_uri": "https://localhost:8080/",
          "height": 51
        }
      },
      "source": [
        "import numpy as np\n",
        "a = np.ones(5)\n",
        "b = torch.from_numpy(a)\n",
        "np.add(a, 1, out=a)\n",
        "print(a)\n",
        "print(b)"
      ],
      "execution_count": 0,
      "outputs": [
        {
          "output_type": "stream",
          "text": [
            "[2. 2. 2. 2. 2.]\n",
            "tensor([2., 2., 2., 2., 2.], dtype=torch.float64)\n"
          ],
          "name": "stdout"
        }
      ]
    },
    {
      "cell_type": "code",
      "metadata": {
        "id": "e1wkDNbiysV3",
        "colab_type": "code",
        "outputId": "1301e74b-dff9-4cf3-8733-f074656b20f0",
        "colab": {
          "base_uri": "https://localhost:8080/",
          "height": 51
        }
      },
      "source": [
        "# 当GPU可用时,可以运行以下代码\n",
        "# 使用`torch.device`来将tensor移入和移出GPU\n",
        "if torch.cuda.is_available():\n",
        "    device = torch.device(\"cuda\")      # a CUDA device object\n",
        "    y = torch.ones_like(x, device=device) # 直接在GPU上创建tensor\n",
        "    x = x.to(device)             # 或者使用`.to(\"cuda\")`方法\n",
        "    z = x + y\n",
        "    print(z)\n",
        "    print(z.to(\"cpu\", torch.double))       # `.to`也能在移动时改变dtype"
      ],
      "execution_count": 0,
      "outputs": [
        {
          "output_type": "stream",
          "text": [
            "tensor([0.5243], device='cuda:0')\n",
            "tensor([0.5243], dtype=torch.float64)\n"
          ],
          "name": "stdout"
        }
      ]
    }
  ]
}
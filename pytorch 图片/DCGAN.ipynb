{
  "nbformat": 4,
  "nbformat_minor": 0,
  "metadata": {
    "colab": {
      "name": "DCGAN.ipynb",
      "provenance": [],
      "collapsed_sections": [],
      "authorship_tag": "ABX9TyOo8q/Q+i7M1X4QfSjWHN+E",
      "include_colab_link": true
    },
    "kernelspec": {
      "name": "python3",
      "display_name": "Python 3"
    },
    "accelerator": "GPU"
  },
  "cells": [
    {
      "cell_type": "markdown",
      "metadata": {
        "id": "view-in-github",
        "colab_type": "text"
      },
      "source": [
        "<a href=\"https://colab.research.google.com/github/IvanLuozZZ/Exercises/blob/master/pytorch%20%E5%9B%BE%E7%89%87/DCGAN.ipynb\" target=\"_parent\"><img src=\"https://colab.research.google.com/assets/colab-badge.svg\" alt=\"Open In Colab\"/></a>"
      ]
    },
    {
      "cell_type": "code",
      "metadata": {
        "id": "BgOhIFYIVK8u",
        "colab_type": "code",
        "colab": {
          "base_uri": "https://localhost:8080/",
          "height": 51
        },
        "outputId": "5c77fc6e-1342-4d3c-d5dd-bdf97b3e67de"
      },
      "source": [
        "from __future__ import print_function\n",
        "#%matplotlib inline\n",
        "import argparse\n",
        "import os\n",
        "import random\n",
        "import torch\n",
        "import torch.nn as nn\n",
        "import torch.nn.parallel\n",
        "import torch.backends.cudnn as cudnn\n",
        "import torch.optim as optim\n",
        "import torch.utils.data\n",
        "import torchvision.datasets as dset\n",
        "import torchvision.transforms as transforms\n",
        "import torchvision.utils as vutils\n",
        "import numpy as np\n",
        "import matplotlib.pyplot as plt\n",
        "import matplotlib.animation as animation\n",
        "from IPython.display import HTML\n",
        "\n",
        "# 为了可重复性设置随机种子\n",
        "manualSeed = 999\n",
        "#manualSeed = random.randint(1, 10000) # 如果你想有一个不同的结果使用这行代码\n",
        "print(\"Random Seed: \", manualSeed)\n",
        "random.seed(manualSeed)\n",
        "torch.manual_seed(manualSeed)"
      ],
      "execution_count": 1,
      "outputs": [
        {
          "output_type": "stream",
          "text": [
            "Random Seed:  999\n"
          ],
          "name": "stdout"
        },
        {
          "output_type": "execute_result",
          "data": {
            "text/plain": [
              "<torch._C.Generator at 0x7f5b39d2cc30>"
            ]
          },
          "metadata": {
            "tags": []
          },
          "execution_count": 1
        }
      ]
    },
    {
      "cell_type": "code",
      "metadata": {
        "id": "pzr76i9SVVnJ",
        "colab_type": "code",
        "colab": {}
      },
      "source": [
        "# 数据集根目录\n",
        "dataroot = \"data/celeba\"\n",
        "\n",
        "# 数据加载器能够使用的进程数量\n",
        "workers = 2\n",
        "\n",
        "# 训练时的批大小\n",
        "batch_size = 128\n",
        "\n",
        "# 训练图片的大小，所有的图片给都将改变到该大小\n",
        "# 转换器使用的大小.\n",
        "image_size = 64\n",
        "\n",
        "# 训练图片的通道数，彩色图片是3\n",
        "nc = 3\n",
        "\n",
        "# 本征向量z的大小(生成器的输入大小)\n",
        "nz = 100\n",
        "\n",
        "# 生成器中特征图大小\n",
        "ngf = 64\n",
        "\n",
        "# 判别器中特征图大小\n",
        "ndf = 64\n",
        "\n",
        "# 训练次数\n",
        "num_epochs = 5\n",
        "\n",
        "# 优化器学习率\n",
        "lr = 0.0002\n",
        "\n",
        "# Adam优化器的Beta1超参\n",
        "beta1 = 0.5\n",
        "\n",
        "# 可利用的GPU数量，使用0将运行在CPU模式。\n",
        "ngpu = 1"
      ],
      "execution_count": 0,
      "outputs": []
    },
    {
      "cell_type": "code",
      "metadata": {
        "id": "YgGSycleVYsi",
        "colab_type": "code",
        "colab": {}
      },
      "source": [
        "# 我们能够使用我们创建的数据集图片文件夹了\n",
        "# 创建数据集\n",
        "dataset = dset.ImageFolder(root=dataroot,\n",
        "                           transform=transforms.Compose([\n",
        "                               transforms.Resize(image_size),\n",
        "                               transforms.CenterCrop(image_size),\n",
        "                               transforms.ToTensor(),\n",
        "                               transforms.Normalize((0.5, 0.5, 0.5), (0.5, 0.5, 0.5)),\n",
        "                           ]))\n",
        "# 创建数据加载器\n",
        "dataloader = torch.utils.data.DataLoader(dataset, batch_size=batch_size,\n",
        "                                         shuffle=True, num_workers=workers)\n",
        "\n",
        "# 决定我们在哪个设备上运行\n",
        "device = torch.device(\"cuda:0\" if (torch.cuda.is_available() and ngpu > 0) else \"cpu\")\n",
        "\n",
        "# 展示一些训练图片\n",
        "real_batch = next(iter(dataloader))\n",
        "plt.figure(figsize=(8,8))\n",
        "plt.axis(\"off\")\n",
        "plt.title(\"Training Images\")\n",
        "plt.imshow(np.transpose(vutils.make_grid(real_batch[0].to(device)[:64], padding=2, normalize=True).cpu(),(1,2,0)))"
      ],
      "execution_count": 0,
      "outputs": []
    },
    {
      "cell_type": "code",
      "metadata": {
        "id": "btKJpfPsVduZ",
        "colab_type": "code",
        "colab": {}
      },
      "source": [
        "# 在netG和netD上调用的自定义权重初始化函数\n",
        "def weights_init(m):\n",
        "    classname = m.__class__.__name__\n",
        "    if classname.find('Conv') != -1:\n",
        "        nn.init.normal_(m.weight.data, 0.0, 0.02)\n",
        "    elif classname.find('BatchNorm') != -1:\n",
        "        nn.init.normal_(m.weight.data, 1.0, 0.02)\n",
        "        nn.init.constant_(m.bias.data, 0)"
      ],
      "execution_count": 0,
      "outputs": []
    },
    {
      "cell_type": "code",
      "metadata": {
        "id": "rN3nU7LqVgqT",
        "colab_type": "code",
        "colab": {}
      },
      "source": [
        "# 生成器代码\n",
        "\n",
        "class Generator(nn.Module):\n",
        "    def __init__(self, ngpu):\n",
        "        super(Generator, self).__init__()\n",
        "        self.ngpu = ngpu\n",
        "        self.main = nn.Sequential(\n",
        "            # 输入是 Z, 对Z进行卷积\n",
        "            nn.ConvTranspose2d( nz, ngf * 8, 4, 1, 0, bias=False),\n",
        "            nn.BatchNorm2d(ngf * 8),\n",
        "            nn.ReLU(True),\n",
        "            # 输入特征图大小. (ngf*8) x 4 x 4\n",
        "            nn.ConvTranspose2d(ngf * 8, ngf * 4, 4, 2, 1, bias=False),\n",
        "            nn.BatchNorm2d(ngf * 4),\n",
        "            nn.ReLU(True),\n",
        "            # 输入特征图大小. (ngf*4) x 8 x 8\n",
        "            nn.ConvTranspose2d( ngf * 4, ngf * 2, 4, 2, 1, bias=False),\n",
        "            nn.BatchNorm2d(ngf * 2),\n",
        "            nn.ReLU(True),\n",
        "            # 输入特征图大小. (ngf*2) x 16 x 16\n",
        "            nn.ConvTranspose2d( ngf * 2, ngf, 4, 2, 1, bias=False),\n",
        "            nn.BatchNorm2d(ngf),\n",
        "            nn.ReLU(True),\n",
        "            # 输入特征图大小. (ngf) x 32 x 32\n",
        "            nn.ConvTranspose2d( ngf, nc, 4, 2, 1, bias=False),\n",
        "            nn.Tanh()\n",
        "            # 输入特征图大小. (nc) x 64 x 64\n",
        "        )\n",
        "\n",
        "    def forward(self, input):\n",
        "        return self.main(input)"
      ],
      "execution_count": 0,
      "outputs": []
    },
    {
      "cell_type": "code",
      "metadata": {
        "id": "o6BEnZgAVjGV",
        "colab_type": "code",
        "colab": {}
      },
      "source": [
        "# 创建生成器\n",
        "netG = Generator(ngpu).to(device)\n",
        "\n",
        "# 如果期望使用多个GPU，设置一下。\n",
        "if (device.type == 'cuda') and (ngpu > 1):\n",
        "    netG = nn.DataParallel(netG, list(range(ngpu)))\n",
        "\n",
        "# 使用权重初始化函数 weights_init 去随机初始化所有权重\n",
        "#  mean=0, stdev=0.2.\n",
        "netG.apply(weights_init)\n",
        "\n",
        "# 输出该模型\n",
        "print(netG)"
      ],
      "execution_count": 0,
      "outputs": []
    },
    {
      "cell_type": "code",
      "metadata": {
        "id": "cskXcZXZVomn",
        "colab_type": "code",
        "colab": {}
      },
      "source": [
        "class Discriminator(nn.Module):\n",
        "    def __init__(self, ngpu):\n",
        "        super(Discriminator, self).__init__()\n",
        "        self.ngpu = ngpu\n",
        "        self.main = nn.Sequential(\n",
        "            # 输入大小 (nc) x 64 x 64\n",
        "            nn.Conv2d(nc, ndf, 4, 2, 1, bias=False),\n",
        "            nn.LeakyReLU(0.2, inplace=True),\n",
        "            # state size. (ndf) x 32 x 32\n",
        "            nn.Conv2d(ndf, ndf * 2, 4, 2, 1, bias=False),\n",
        "            nn.BatchNorm2d(ndf * 2),\n",
        "            nn.LeakyReLU(0.2, inplace=True),\n",
        "            # 输入大小. (ndf*2) x 16 x 16\n",
        "            nn.Conv2d(ndf * 2, ndf * 4, 4, 2, 1, bias=False),\n",
        "            nn.BatchNorm2d(ndf * 4),\n",
        "            nn.LeakyReLU(0.2, inplace=True),\n",
        "            # 输入大小. (ndf*4) x 8 x 8\n",
        "            nn.Conv2d(ndf * 4, ndf * 8, 4, 2, 1, bias=False),\n",
        "            nn.BatchNorm2d(ndf * 8),\n",
        "            nn.LeakyReLU(0.2, inplace=True),\n",
        "            # 输入大小. (ndf*8) x 4 x 4\n",
        "            nn.Conv2d(ndf * 8, 1, 4, 1, 0, bias=False),\n",
        "            nn.Sigmoid()\n",
        "        )\n",
        "\n",
        "    def forward(self, input):\n",
        "        return self.main(input)"
      ],
      "execution_count": 0,
      "outputs": []
    },
    {
      "cell_type": "code",
      "metadata": {
        "id": "NvazplmwVpW8",
        "colab_type": "code",
        "colab": {}
      },
      "source": [
        "# 创建判别器\n",
        "netD = Discriminator(ngpu).to(device)\n",
        "\n",
        "# 如果期望使用多GPU，设置一下\n",
        "if (device.type == 'cuda') and (ngpu > 1):\n",
        "    netD = nn.DataParallel(netD, list(range(ngpu)))\n",
        "\n",
        "# 使用权重初始化函数 weights_init 去随机初始化所有权重\n",
        "#  mean=0, stdev=0.2.\n",
        "netD.apply(weights_init)\n",
        "\n",
        "# 输出该模型\n",
        "print(netD)"
      ],
      "execution_count": 0,
      "outputs": []
    },
    {
      "cell_type": "code",
      "metadata": {
        "id": "aMqfcYHUVr8f",
        "colab_type": "code",
        "colab": {}
      },
      "source": [
        "# 初始化 BCE损失函数\n",
        "criterion = nn.BCELoss()\n",
        "\n",
        "# 创建一个批次的本征向量用于可视化生成器训练的过程。\n",
        "fixed_noise = torch.randn(64, nz, 1, 1, device=device)\n",
        "\n",
        "# 建立一个在训练中使用的真实和假的标记\n",
        "real_label = 1\n",
        "fake_label = 0\n",
        "\n",
        "# 为G和D都设置Adam优化器\n",
        "optimizerD = optim.Adam(netD.parameters(), lr=lr, betas=(beta1, 0.999))\n",
        "optimizerG = optim.Adam(netG.parameters(), lr=lr, betas=(beta1, 0.999))"
      ],
      "execution_count": 0,
      "outputs": []
    },
    {
      "cell_type": "code",
      "metadata": {
        "id": "aC_11XBSVt2N",
        "colab_type": "code",
        "colab": {}
      },
      "source": [
        "# 训练循环\n",
        "\n",
        "# 保存跟踪进度的列表\n",
        "img_list = []\n",
        "G_losses = []\n",
        "D_losses = []\n",
        "iters = 0\n",
        "\n",
        "print(\"Starting Training Loop...\")\n",
        "# 每个epoh\n",
        "for epoch in range(num_epochs):\n",
        "    # 数据加载器中的每个批次\n",
        "    for i, data in enumerate(dataloader, 0):\n",
        "\n",
        "        ############################\n",
        "        # (1) 更新 D 网络: 最大化 log(D(x)) + log(1 - D(G(z)))\n",
        "        ###########################\n",
        "        ## 使用所有真实样本批次训练\n",
        "        netD.zero_grad()\n",
        "        # 格式化批\n",
        "        real_cpu = data[0].to(device)\n",
        "        b_size = real_cpu.size(0)\n",
        "        label = torch.full((b_size,), real_label, device=device)\n",
        "        # 通过D向前传递真实批次\n",
        "        output = netD(real_cpu).view(-1)\n",
        "        # 对所有真实样本批次计算损失\n",
        "        errD_real = criterion(output, label)\n",
        "        # 计算后向传递中D的梯度\n",
        "        errD_real.backward()\n",
        "        D_x = output.mean().item()\n",
        "\n",
        "        ## 使用所有假样本批次训练\n",
        "        # 生成本征向量批次\n",
        "        noise = torch.randn(b_size, nz, 1, 1, device=device)\n",
        "        # 使用生成器G生成假图片\n",
        "        fake = netG(noise)\n",
        "        label.fill_(fake_label)\n",
        "        # 使用判别器分类所有的假批次样本\n",
        "        output = netD(fake.detach()).view(-1)\n",
        "        # 计算判别器D的损失对所有的假样本批次\n",
        "        errD_fake = criterion(output, label)\n",
        "        # 对这个批次计算梯度\n",
        "        errD_fake.backward()\n",
        "        D_G_z1 = output.mean().item()\n",
        "        # 把所有真样本和假样本批次的梯度加起来\n",
        "        errD = errD_real + errD_fake\n",
        "        # 更新判别器D\n",
        "        optimizerD.step()\n",
        "\n",
        "        ############################\n",
        "        # (2) 更新 G 网络: 最大化 log(D(G(z)))\n",
        "        ###########################\n",
        "        netG.zero_grad()\n",
        "        label.fill_(real_label)  # 假样本的标签对于生成器成本是真的\n",
        "        # 因为我们之更新了D，通过D执行所有假样本批次的正向传递\n",
        "        output = netD(fake).view(-1)\n",
        "        # 基于这个输出计算G的损失\n",
        "        errG = criterion(output, label)\n",
        "        # 为生成器计算梯度\n",
        "        errG.backward()\n",
        "        D_G_z2 = output.mean().item()\n",
        "        # 更新生成器G\n",
        "        optimizerG.step()\n",
        "\n",
        "        # 输出训练状态\n",
        "        if i % 50 == 0:\n",
        "            print('[%d/%d][%d/%d]\\tLoss_D: %.4f\\tLoss_G: %.4f\\tD(x): %.4f\\tD(G(z)): %.4f / %.4f'\n",
        "                  % (epoch, num_epochs, i, len(dataloader),\n",
        "                     errD.item(), errG.item(), D_x, D_G_z1, D_G_z2))\n",
        "\n",
        "        # 为以后画损失图，保存损失\n",
        "        G_losses.append(errG.item())\n",
        "        D_losses.append(errD.item())\n",
        "\n",
        "        # 检查生成器generator做了什么，通过保存的fixed_noise通过G的输出\n",
        "        if (iters % 500 == 0) or ((epoch == num_epochs-1) and (i == len(dataloader)-1)):\n",
        "            with torch.no_grad():\n",
        "                fake = netG(fixed_noise).detach().cpu()\n",
        "            img_list.append(vutils.make_grid(fake, padding=2, normalize=True))\n",
        "\n",
        "        iters += 1"
      ],
      "execution_count": 0,
      "outputs": []
    },
    {
      "cell_type": "code",
      "metadata": {
        "id": "LbjVxZ3kVw9_",
        "colab_type": "code",
        "colab": {}
      },
      "source": [
        "plt.figure(figsize=(10,5))\n",
        "plt.title(\"Generator and Discriminator Loss During Training\")\n",
        "plt.plot(G_losses,label=\"G\")\n",
        "plt.plot(D_losses,label=\"D\")\n",
        "plt.xlabel(\"iterations\")\n",
        "plt.ylabel(\"Loss\")\n",
        "plt.legend()\n",
        "plt.show()"
      ],
      "execution_count": 0,
      "outputs": []
    },
    {
      "cell_type": "code",
      "metadata": {
        "id": "eCOe61N-VziZ",
        "colab_type": "code",
        "colab": {}
      },
      "source": [
        "#%%capture\n",
        "fig = plt.figure(figsize=(8,8))\n",
        "plt.axis(\"off\")\n",
        "ims = [[plt.imshow(np.transpose(i,(1,2,0)), animated=True)] for i in img_list]\n",
        "ani = animation.ArtistAnimation(fig, ims, interval=1000, repeat_delay=1000, blit=True)\n",
        "\n",
        "HTML(ani.to_jshtml())"
      ],
      "execution_count": 0,
      "outputs": []
    },
    {
      "cell_type": "code",
      "metadata": {
        "id": "ZK0h370sV4cx",
        "colab_type": "code",
        "colab": {}
      },
      "source": [
        "# 从数据加载器中获取一批真实图像\n",
        "real_batch = next(iter(dataloader))\n",
        "\n",
        "# 画出真实图像\n",
        "plt.figure(figsize=(15,15))\n",
        "plt.subplot(1,2,1)\n",
        "plt.axis(\"off\")\n",
        "plt.title(\"Real Images\")\n",
        "plt.imshow(np.transpose(vutils.make_grid(real_batch[0].to(device)[:64], padding=5, normalize=True).cpu(),(1,2,0)))\n",
        "\n",
        "# 画出来自最后一次训练的假图像\n",
        "plt.subplot(1,2,2)\n",
        "plt.axis(\"off\")\n",
        "plt.title(\"Fake Images\")\n",
        "plt.imshow(np.transpose(img_list[-1],(1,2,0)))\n",
        "plt.show()"
      ],
      "execution_count": 0,
      "outputs": []
    }
  ]
}